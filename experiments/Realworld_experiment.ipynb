{
 "cells": [
  {
   "cell_type": "code",
   "execution_count": null,
   "id": "d1251bf5",
   "metadata": {},
   "outputs": [],
   "source": [
    "import sys\n",
    "import pandas as pd\n",
    "import patsy\n",
    "import numpy as np\n",
    "from statsmodels.formula.api import ols\n",
    "from joblib import Parallel, delayed\n",
    "from torch.utils.data import TensorDataset\n",
    "import torch\n",
    "import warnings\n",
    "\n",
    "sys.path.append(\"../\")\n",
    "from helpers.hsic import dhsic_test, hsic_perm_test\n",
    "from helpers.trainer import fit_restart\n",
    "from helpers.utils import to_torch, med_sigma\n",
    "from models.callbacks import PvalueLog, MedianHeuristic\n",
    "from models.hsicx import LinearHSICX\n",
    "from models.kernel import ProductKernel2, CategoryKernel, RBFKernel\n",
    "\n",
    "warnings.simplefilter(\"ignore\")"
   ]
  },
  {
   "cell_type": "code",
   "execution_count": null,
   "id": "0d09f168",
   "metadata": {},
   "outputs": [],
   "source": [
    "np.random.seed(0)\n",
    "\n",
    "df = pd.read_csv(\"card.csv\", index_col=0)\n",
    "\n",
    "OLS = ols(\"lwage ~ -1 + educ + C(black) + C(smsa66) + C(exp_bin) + C(south66)\", df).fit()\n",
    "OLS.conf_int()"
   ]
  },
  {
   "cell_type": "code",
   "execution_count": null,
   "id": "94dc17f2",
   "metadata": {},
   "outputs": [],
   "source": [
    "def invert_test(p, X, W, Y, Z, kernel_z, method='gamma'):\n",
    "    Y_hat = Y - p * X\n",
    "    se_callback = MedianHeuristic()\n",
    "    pval_callback = PvalueLog()\n",
    "\n",
    "    batch_size = 256\n",
    "\n",
    "    kernel_e = RBFKernel(sigma=1)\n",
    "    hsic_net = LinearHSICX(input_dim=W.shape[1],\n",
    "                           lr=1e-2,\n",
    "                           lmd=0.0,\n",
    "                           kernel_e=kernel_e,\n",
    "                           kernel_z=kernel_z,\n",
    "                           bias=False)\n",
    "\n",
    "    trainloader = torch.utils.data.DataLoader(TensorDataset(to_torch(W), to_torch(Y_hat), to_torch(Z)),\n",
    "                                              batch_size=batch_size,\n",
    "                                              shuffle=True, num_workers=0)\n",
    "\n",
    "    max_epoch = 50\n",
    "    hsic_net = fit_restart(trainloader, hsic_net, pval_callback, max_epoch,\n",
    "                           se_callback, num_restart=1, verbose=False)\n",
    "\n",
    "    res = Y_hat - hsic_net(to_torch(W)).detach().numpy()\n",
    "\n",
    "    sigma_e = med_sigma(res)\n",
    "    kernel_e = RBFKernel(sigma=sigma_e)\n",
    "\n",
    "    if method == 'gamma':\n",
    "        if kernel_z.__class__ == CategoryKernel:\n",
    "            kernels = ['gaussian', 'discrete']\n",
    "        else:\n",
    "            kernels = ['gaussian', 'gaussian']\n",
    "\n",
    "        pval, hsic = dhsic_test(res, Z, kernels,\n",
    "                                statistics=True, method='gamma')\n",
    "    elif method == 'permu':\n",
    "        pval, hsic = hsic_perm_test(res, Z, kernel_e, kernel_z, B=100)\n",
    "\n",
    "    return p, pval, hsic"
   ]
  },
  {
   "cell_type": "code",
   "execution_count": null,
   "id": "d6ee0ddf",
   "metadata": {},
   "outputs": [],
   "source": [
    "W = np.asarray(patsy.dmatrix(\"~ -1 + C(black) + C(smsa66) + C(south66) + C(exp_bin)\", data=df, return_type='matrix'))\n",
    "Z = np.asarray(patsy.dmatrix(\"~ -1 + C(nearc4)\", data=df, return_type='matrix'))\n",
    "Z = np.hstack([Z, W])\n",
    "X = df['educ']\n",
    "Y = df['lwage']"
   ]
  },
  {
   "cell_type": "code",
   "execution_count": null,
   "id": "5642a052",
   "metadata": {},
   "outputs": [],
   "source": [
    "kernel_z = ProductKernel2(CategoryKernel(one_hot=False),\n",
    "                          RBFKernel(1),\n",
    "                          [0, 1],\n",
    "                          [2, 3, 4, 5, 6, 7, 8])\n",
    "\n",
    "param_range = np.linspace(0.03, 0.23, 64)\n",
    "\n",
    "pval_ret = Parallel(n_jobs=-1)(delayed(invert_test)(p, X, W, Y, Z, kernel_z, method='permu') for p in param_range)\n",
    "\n",
    "pval_df = pd.DataFrame(pval_ret, columns=['param', 'pval', 'stat'])\n",
    "pval_df.to_csv(\"../results/card_pval_df.csv\", index=False)\n",
    "\n",
    "point_estimate = pval_df.param[pval_df.stat == pval_df.stat.min()].iloc[0]\n",
    "\n",
    "accept_df = pval_df.query('pval >= 0.05')\n",
    "conf_int = accept_df.param.min(), accept_df.param.max()"
   ]
  }
 ],
 "metadata": {
  "environment": {
   "kernel": "python3",
   "name": "pytorch-gpu.1-10.m87",
   "type": "gcloud",
   "uri": "gcr.io/deeplearning-platform-release/pytorch-gpu.1-10:m87"
  },
  "kernelspec": {
   "display_name": "Python 3 (ipykernel)",
   "language": "python",
   "name": "python3"
  },
  "language_info": {
   "codemirror_mode": {
    "name": "ipython",
    "version": 3
   },
   "file_extension": ".py",
   "mimetype": "text/x-python",
   "name": "python",
   "nbconvert_exporter": "python",
   "pygments_lexer": "ipython3",
   "version": "3.8.2"
  }
 },
 "nbformat": 4,
 "nbformat_minor": 5
}
