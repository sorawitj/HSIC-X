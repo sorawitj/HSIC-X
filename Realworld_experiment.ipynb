{
 "cells": [
  {
   "cell_type": "code",
   "execution_count": null,
   "id": "6bcb13a5-14f2-4d2b-8c05-82907024e179",
   "metadata": {},
   "outputs": [],
   "source": [
    "import pandas as pd\n",
    "from model import LinearModel, MedianHeuristic, PvalueLog, ConfIntHSIC\n",
    "from hsic import hsic_perm_test\n",
    "import patsy\n",
    "import numpy as np\n",
    "from functools import partial\n",
    "from statsmodels.sandbox.regression.gmm import LinearIVGMM\n",
    "from statsmodels.formula.api import ols\n",
    "import itertools\n",
    "from joblib import Parallel, delayed\n",
    "from kernel import RBFKernel, CategoryKernel, ProductKernel3, ProductKernel2\n",
    "from torch.utils.data import TensorDataset\n",
    "from linearmodels.iv.model import IV2SLS\n",
    "import torch\n",
    "from utils import *\n",
    "import warnings\n",
    "warnings.simplefilter(\"ignore\")\n",
    "\n",
    "np.random.seed(0)"
   ]
  },
  {
   "cell_type": "code",
   "execution_count": null,
   "id": "2b23ddf8-924d-46ea-aa09-c8d28cbd37ff",
   "metadata": {},
   "outputs": [],
   "source": [
    "df = pd.read_csv(\"card.csv\", index_col=0)"
   ]
  },
  {
   "cell_type": "code",
   "execution_count": null,
   "id": "106fe96b-15e3-4c2b-be54-e29ca7a15594",
   "metadata": {},
   "outputs": [],
   "source": [
    "OLS = ols(\"lwage ~ -1 + educ + C(black) + C(smsa66) + C(exp_bin) + C(south66)\", df).fit()"
   ]
  },
  {
   "cell_type": "code",
   "execution_count": null,
   "id": "98e931ca-5380-4c0e-b978-324400172084",
   "metadata": {},
   "outputs": [],
   "source": [
    "print(OLS.params['educ'])"
   ]
  },
  {
   "cell_type": "code",
   "execution_count": null,
   "id": "28e17f07-741f-4430-bf19-66d83b3fb92e",
   "metadata": {},
   "outputs": [],
   "source": [
    "OLS.conf_int()"
   ]
  },
  {
   "cell_type": "code",
   "execution_count": null,
   "id": "fa10162b-05cd-4121-81c3-5b45b0ae7415",
   "metadata": {},
   "outputs": [],
   "source": [
    "def invert_test(p, X, W, Y, Z, kernel_z, method='gamma'):\n",
    "    Y_hat = Y - p * X\n",
    "    se_callback = MedianHeuristic()\n",
    "    pval_callback = PvalueLog()\n",
    "    \n",
    "    batch_size = 256\n",
    "    \n",
    "    kernel_e = RBFKernel(sigma=1)\n",
    "    hsic_net = LinearModel(input_dim=W.shape[1],\n",
    "                           lr=1e-2,\n",
    "                           lmd=0.0,\n",
    "                           kernel_e=kernel_e,\n",
    "                           kernel_z=kernel_z,\n",
    "                           bias=False)\n",
    "    \n",
    "    trainloader = torch.utils.data.DataLoader(TensorDataset(to_torch(W), to_torch(Y_hat), to_torch(Z)),\n",
    "                                              batch_size=batch_size,\n",
    "                                              shuffle=True, num_workers=0)\n",
    "    \n",
    "    max_epoch = 50\n",
    "    hsic_net = fit_restart(trainloader, hsic_net, pval_callback, max_epoch, \n",
    "                           se_callback, num_restart=1, verbose=False)\n",
    "    \n",
    "    res = Y_hat - hsic_net(to_torch(W)).detach().numpy()\n",
    "    \n",
    "    sigma_e = med_sigma(res)\n",
    "    kernel_e = RBFKernel(sigma=sigma_e)\n",
    "    \n",
    "    if method == 'gamma':\n",
    "        if kernel_z.__class__ == CategoryKernel:\n",
    "            kernels = ['gaussian', 'discrete']\n",
    "        else:\n",
    "            kernels = ['gaussian', 'gaussian']\n",
    "        \n",
    "        pval, hsic = dhsic_test(res, Z, kernels, \n",
    "                         statistics=True, method='gamma')\n",
    "    elif method == 'permu':\n",
    "        pval, hsic = hsic_perm_test(res, Z, kernel_e, kernel_z, B=100)\n",
    "        \n",
    "    return p, pval, hsic"
   ]
  },
  {
   "cell_type": "code",
   "execution_count": null,
   "id": "cb6eb849-ed34-4618-8912-c9c87d7cefd0",
   "metadata": {},
   "outputs": [],
   "source": [
    "W = np.asarray(patsy.dmatrix(\"~ -1 + C(black) + C(smsa66) + C(south66) + C(exp_bin)\", data=df, return_type='matrix'))\n",
    "Z = np.asarray(patsy.dmatrix(\"~ -1 + C(nearc4)\", data=df, return_type='matrix'))\n",
    "Z = np.hstack([Z, W])\n",
    "X = df['educ']\n",
    "Y = df['lwage']"
   ]
  },
  {
   "cell_type": "code",
   "execution_count": null,
   "id": "352575bd-08ea-4956-9f0a-95876458b441",
   "metadata": {},
   "outputs": [],
   "source": [
    "kernel_z = ProductKernel2(CategoryKernel(one_hot=False),\n",
    "                          RBFKernel(1),\n",
    "                          [0, 1],\n",
    "                          [2, 3, 4, 5, 6, 7, 8])"
   ]
  },
  {
   "cell_type": "code",
   "execution_count": null,
   "id": "45c3bbfa-11fd-4249-8c17-f77f7ce2319c",
   "metadata": {
    "tags": []
   },
   "outputs": [],
   "source": [
    "param_range = np.linspace(0.03, 0.23, 64)\n",
    "\n",
    "pval_ret = Parallel(n_jobs=-1)(delayed(invert_test)(p, X, W, Y, Z, kernel_z, method='permu') for p in param_range)"
   ]
  },
  {
   "cell_type": "code",
   "execution_count": null,
   "id": "f8c39b9e-4a51-4700-a86b-e76b03b76a0d",
   "metadata": {},
   "outputs": [],
   "source": [
    "pval_df = pd.DataFrame(pval_ret, columns=['param', 'pval', 'stat'])\n",
    "pval_df.to_csv(\"card_pval_df.csv\", index=False)"
   ]
  },
  {
   "cell_type": "code",
   "execution_count": null,
   "id": "256d8218-b898-45f8-823b-964aab34b4da",
   "metadata": {},
   "outputs": [],
   "source": [
    "point_estimate = pval_df.param[pval_df.stat == pval_df.stat.min()].iloc[0]"
   ]
  },
  {
   "cell_type": "code",
   "execution_count": null,
   "id": "4fa001b9-d8a7-42c5-9bab-cd0e8f01e73b",
   "metadata": {},
   "outputs": [],
   "source": [
    "accept_df = pval_df.query('pval >= 0.05')\n",
    "conf_int = accept_df.param.min(), accept_df.param.max()"
   ]
  },
  {
   "cell_type": "code",
   "execution_count": null,
   "id": "360a60a6-669f-4c7a-910f-1a3a7c1f36d8",
   "metadata": {},
   "outputs": [],
   "source": [
    "point_estimate"
   ]
  },
  {
   "cell_type": "code",
   "execution_count": null,
   "id": "b072ef48-d6c9-40a6-8db1-ce5a8f7c575b",
   "metadata": {},
   "outputs": [],
   "source": [
    "conf_int"
   ]
  }
 ],
 "metadata": {
  "environment": {
   "kernel": "python3",
   "name": "pytorch-gpu.1-10.m87",
   "type": "gcloud",
   "uri": "gcr.io/deeplearning-platform-release/pytorch-gpu.1-10:m87"
  },
  "kernelspec": {
   "display_name": "Python 3 (ipykernel)",
   "language": "python",
   "name": "python3"
  },
  "language_info": {
   "codemirror_mode": {
    "name": "ipython",
    "version": 3
   },
   "file_extension": ".py",
   "mimetype": "text/x-python",
   "name": "python",
   "nbconvert_exporter": "python",
   "pygments_lexer": "ipython3",
   "version": "3.8.2"
  }
 },
 "nbformat": 4,
 "nbformat_minor": 5
}
